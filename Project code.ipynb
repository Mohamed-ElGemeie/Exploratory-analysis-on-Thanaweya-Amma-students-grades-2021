{
 "cells": [
  {
   "cell_type": "markdown",
   "id": "5ab5e94b",
   "metadata": {},
   "source": [
    "# Math201 Project\n",
    "### Data analysis on Egypt High School Grades (Thanaweya Amma) using a <br>Multi Linear Regression model and visuals. \n",
    "Mohamed Galal Elgemeie <b>(202000206)</b> <br>Ahmed Kamal Ahmed <b>(211000202)</b> <br>Mohammed ismail <b>(202003000)</b> <br>Hesham Reda <b>(19105550)</b> <br>Ibrahim Moustafa <b>(202000938)</b> <br>"
   ]
  },
  {
   "cell_type": "markdown",
   "id": "350c88ff",
   "metadata": {},
   "source": [
    "# 1- SetUp"
   ]
  },
  {
   "cell_type": "markdown",
   "id": "1d32bdda",
   "metadata": {},
   "source": [
    "#### import main libraries and modules for analysis.\n",
    "Pandas: module used for Data analysis<br>\n",
    "statsmodels.api: module used to import the multi linear regression model.<br>\n",
    "matplotlib.pyplot: used to visulize the data with scatterplots and bar charts.<br>\n",
    "sklearn.preprocessing: used to import the scaler which changes the range of values a column can contain."
   ]
  },
  {
   "cell_type": "code",
   "execution_count": 2,
   "id": "b5671f1f",
   "metadata": {},
   "outputs": [
    {
     "data": {
      "text/html": [
       "<div>\n",
       "<style scoped>\n",
       "    .dataframe tbody tr th:only-of-type {\n",
       "        vertical-align: middle;\n",
       "    }\n",
       "\n",
       "    .dataframe tbody tr th {\n",
       "        vertical-align: top;\n",
       "    }\n",
       "\n",
       "    .dataframe thead th {\n",
       "        text-align: right;\n",
       "    }\n",
       "</style>\n",
       "<table border=\"1\" class=\"dataframe\">\n",
       "  <thead>\n",
       "    <tr style=\"text-align: right;\">\n",
       "      <th></th>\n",
       "      <th>StudentId</th>\n",
       "      <th>TotalGrades</th>\n",
       "      <th>TotalPercentage</th>\n",
       "      <th>Name</th>\n",
       "      <th>School</th>\n",
       "      <th>EducationZone</th>\n",
       "      <th>Status</th>\n",
       "      <th>EductionType</th>\n",
       "      <th>Department</th>\n",
       "      <th>Arabic</th>\n",
       "      <th>...</th>\n",
       "      <th>Philosophy</th>\n",
       "      <th>Psychology</th>\n",
       "      <th>Chemistry</th>\n",
       "      <th>Biology</th>\n",
       "      <th>Geology</th>\n",
       "      <th>AppliedMath</th>\n",
       "      <th>Physics</th>\n",
       "      <th>Religion</th>\n",
       "      <th>NationalEducation</th>\n",
       "      <th>Statistics</th>\n",
       "    </tr>\n",
       "  </thead>\n",
       "  <tbody>\n",
       "    <tr>\n",
       "      <th>0</th>\n",
       "      <td>0</td>\n",
       "      <td>179.0</td>\n",
       "      <td>43.66%</td>\n",
       "      <td>الأستاذ مشفق إياد</td>\n",
       "      <td>1</td>\n",
       "      <td>الدقى</td>\n",
       "      <td>راسب</td>\n",
       "      <td>طلاب</td>\n",
       "      <td>علمي علوم</td>\n",
       "      <td>45</td>\n",
       "      <td>...</td>\n",
       "      <td>NaN</td>\n",
       "      <td>NaN</td>\n",
       "      <td>16</td>\n",
       "      <td>30</td>\n",
       "      <td>25</td>\n",
       "      <td>NaN</td>\n",
       "      <td>30</td>\n",
       "      <td>إجتياز</td>\n",
       "      <td>إجتياز</td>\n",
       "      <td>إجتياز</td>\n",
       "    </tr>\n",
       "    <tr>\n",
       "      <th>1</th>\n",
       "      <td>1</td>\n",
       "      <td>342.0</td>\n",
       "      <td>83.41%</td>\n",
       "      <td>الأستاذ صخر وهبة</td>\n",
       "      <td>1</td>\n",
       "      <td>الدقى</td>\n",
       "      <td>ناجح</td>\n",
       "      <td>طلاب</td>\n",
       "      <td>علمي علوم</td>\n",
       "      <td>68</td>\n",
       "      <td>...</td>\n",
       "      <td>NaN</td>\n",
       "      <td>NaN</td>\n",
       "      <td>45</td>\n",
       "      <td>48</td>\n",
       "      <td>54</td>\n",
       "      <td>NaN</td>\n",
       "      <td>46</td>\n",
       "      <td>إجتياز</td>\n",
       "      <td>إجتياز</td>\n",
       "      <td>إجتياز</td>\n",
       "    </tr>\n",
       "    <tr>\n",
       "      <th>2</th>\n",
       "      <td>2</td>\n",
       "      <td>303.0</td>\n",
       "      <td>73.90%</td>\n",
       "      <td>ضرغام سوميرة</td>\n",
       "      <td>1</td>\n",
       "      <td>الدقى</td>\n",
       "      <td>ناجح</td>\n",
       "      <td>طلاب</td>\n",
       "      <td>علمي علوم</td>\n",
       "      <td>64</td>\n",
       "      <td>...</td>\n",
       "      <td>NaN</td>\n",
       "      <td>NaN</td>\n",
       "      <td>30</td>\n",
       "      <td>53</td>\n",
       "      <td>51</td>\n",
       "      <td>NaN</td>\n",
       "      <td>44</td>\n",
       "      <td>إجتياز</td>\n",
       "      <td>إجتياز</td>\n",
       "      <td>إجتياز</td>\n",
       "    </tr>\n",
       "  </tbody>\n",
       "</table>\n",
       "<p>3 rows × 25 columns</p>\n",
       "</div>"
      ],
      "text/plain": [
       "   StudentId  TotalGrades TotalPercentage               Name  School  \\\n",
       "0          0        179.0          43.66%  الأستاذ مشفق إياد       1   \n",
       "1          1        342.0          83.41%   الأستاذ صخر وهبة       1   \n",
       "2          2        303.0          73.90%       ضرغام سوميرة       1   \n",
       "\n",
       "  EducationZone Status EductionType Department Arabic  ... Philosophy  \\\n",
       "0         الدقى   راسب         طلاب  علمي علوم     45  ...        NaN   \n",
       "1         الدقى   ناجح         طلاب  علمي علوم     68  ...        NaN   \n",
       "2         الدقى   ناجح         طلاب  علمي علوم     64  ...        NaN   \n",
       "\n",
       "  Psychology Chemistry Biology Geology AppliedMath Physics Religion  \\\n",
       "0        NaN        16      30      25         NaN      30   إجتياز   \n",
       "1        NaN        45      48      54         NaN      46   إجتياز   \n",
       "2        NaN        30      53      51         NaN      44   إجتياز   \n",
       "\n",
       "  NationalEducation Statistics  \n",
       "0            إجتياز     إجتياز  \n",
       "1            إجتياز     إجتياز  \n",
       "2            إجتياز     إجتياز  \n",
       "\n",
       "[3 rows x 25 columns]"
      ]
     },
     "execution_count": 2,
     "metadata": {},
     "output_type": "execute_result"
    }
   ],
   "source": [
    "import pandas as pd \n",
    "import numpy as np \n",
    "import statsmodels.api as sm  \n",
    "import matplotlib.pyplot as plt\n",
    "from sklearn.preprocessing import MinMaxScaler\n",
    "%matplotlib inline\n",
    "df=pd.read_csv(\"students_data_annoynmous_names.csv\")\n",
    "df.head(3)"
   ]
  },
  {
   "cell_type": "markdown",
   "id": "6516a342",
   "metadata": {},
   "source": [
    "# 2- Clean The Dataset\n",
    "\n",
    "##### Create Dummy variables that store the values of a column in binary format\n",
    "Dummy variables contain a one if the category is present and zero otherwise, each row always has one (1) all the categories<br><br>adaby:  Adaby<br>math science:  Alm Ryada<br>science science:  Alm Aloom<br>undefined:  Students who failed and thier education method wasn't mentioned<br><br>sec_trial:  second trial students<br>fail:  students who failed<br>pass:  students who passed"
   ]
  },
  {
   "cell_type": "code",
   "execution_count": 3,
   "id": "8d4f74a3",
   "metadata": {},
   "outputs": [
    {
     "data": {
      "text/html": [
       "<div>\n",
       "<style scoped>\n",
       "    .dataframe tbody tr th:only-of-type {\n",
       "        vertical-align: middle;\n",
       "    }\n",
       "\n",
       "    .dataframe tbody tr th {\n",
       "        vertical-align: top;\n",
       "    }\n",
       "\n",
       "    .dataframe thead th {\n",
       "        text-align: right;\n",
       "    }\n",
       "</style>\n",
       "<table border=\"1\" class=\"dataframe\">\n",
       "  <thead>\n",
       "    <tr style=\"text-align: right;\">\n",
       "      <th></th>\n",
       "      <th>StudentId</th>\n",
       "      <th>TotalGrades</th>\n",
       "      <th>TotalPercentage</th>\n",
       "      <th>Name</th>\n",
       "      <th>School</th>\n",
       "      <th>EducationZone</th>\n",
       "      <th>Status</th>\n",
       "      <th>EductionType</th>\n",
       "      <th>Department</th>\n",
       "      <th>Arabic</th>\n",
       "      <th>...</th>\n",
       "      <th>Religion</th>\n",
       "      <th>NationalEducation</th>\n",
       "      <th>Statistics</th>\n",
       "      <th>adaby</th>\n",
       "      <th>math science</th>\n",
       "      <th>science science</th>\n",
       "      <th>undefined</th>\n",
       "      <th>sec_trial</th>\n",
       "      <th>fail</th>\n",
       "      <th>pass</th>\n",
       "    </tr>\n",
       "  </thead>\n",
       "  <tbody>\n",
       "    <tr>\n",
       "      <th>0</th>\n",
       "      <td>0</td>\n",
       "      <td>179.0</td>\n",
       "      <td>43.66%</td>\n",
       "      <td>الأستاذ مشفق إياد</td>\n",
       "      <td>1</td>\n",
       "      <td>الدقى</td>\n",
       "      <td>راسب</td>\n",
       "      <td>طلاب</td>\n",
       "      <td>علمي علوم</td>\n",
       "      <td>45</td>\n",
       "      <td>...</td>\n",
       "      <td>إجتياز</td>\n",
       "      <td>إجتياز</td>\n",
       "      <td>إجتياز</td>\n",
       "      <td>0</td>\n",
       "      <td>0</td>\n",
       "      <td>1</td>\n",
       "      <td>0</td>\n",
       "      <td>0</td>\n",
       "      <td>1</td>\n",
       "      <td>0</td>\n",
       "    </tr>\n",
       "    <tr>\n",
       "      <th>1</th>\n",
       "      <td>1</td>\n",
       "      <td>342.0</td>\n",
       "      <td>83.41%</td>\n",
       "      <td>الأستاذ صخر وهبة</td>\n",
       "      <td>1</td>\n",
       "      <td>الدقى</td>\n",
       "      <td>ناجح</td>\n",
       "      <td>طلاب</td>\n",
       "      <td>علمي علوم</td>\n",
       "      <td>68</td>\n",
       "      <td>...</td>\n",
       "      <td>إجتياز</td>\n",
       "      <td>إجتياز</td>\n",
       "      <td>إجتياز</td>\n",
       "      <td>0</td>\n",
       "      <td>0</td>\n",
       "      <td>1</td>\n",
       "      <td>0</td>\n",
       "      <td>0</td>\n",
       "      <td>0</td>\n",
       "      <td>1</td>\n",
       "    </tr>\n",
       "    <tr>\n",
       "      <th>2</th>\n",
       "      <td>2</td>\n",
       "      <td>303.0</td>\n",
       "      <td>73.90%</td>\n",
       "      <td>ضرغام سوميرة</td>\n",
       "      <td>1</td>\n",
       "      <td>الدقى</td>\n",
       "      <td>ناجح</td>\n",
       "      <td>طلاب</td>\n",
       "      <td>علمي علوم</td>\n",
       "      <td>64</td>\n",
       "      <td>...</td>\n",
       "      <td>إجتياز</td>\n",
       "      <td>إجتياز</td>\n",
       "      <td>إجتياز</td>\n",
       "      <td>0</td>\n",
       "      <td>0</td>\n",
       "      <td>1</td>\n",
       "      <td>0</td>\n",
       "      <td>0</td>\n",
       "      <td>0</td>\n",
       "      <td>1</td>\n",
       "    </tr>\n",
       "  </tbody>\n",
       "</table>\n",
       "<p>3 rows × 32 columns</p>\n",
       "</div>"
      ],
      "text/plain": [
       "   StudentId  TotalGrades TotalPercentage               Name  School  \\\n",
       "0          0        179.0          43.66%  الأستاذ مشفق إياد       1   \n",
       "1          1        342.0          83.41%   الأستاذ صخر وهبة       1   \n",
       "2          2        303.0          73.90%       ضرغام سوميرة       1   \n",
       "\n",
       "  EducationZone Status EductionType Department Arabic  ... Religion  \\\n",
       "0         الدقى   راسب         طلاب  علمي علوم     45  ...   إجتياز   \n",
       "1         الدقى   ناجح         طلاب  علمي علوم     68  ...   إجتياز   \n",
       "2         الدقى   ناجح         طلاب  علمي علوم     64  ...   إجتياز   \n",
       "\n",
       "  NationalEducation Statistics adaby math science science science undefined  \\\n",
       "0            إجتياز     إجتياز     0            0               1         0   \n",
       "1            إجتياز     إجتياز     0            0               1         0   \n",
       "2            إجتياز     إجتياز     0            0               1         0   \n",
       "\n",
       "  sec_trial fail pass  \n",
       "0         0    1    0  \n",
       "1         0    0    1  \n",
       "2         0    0    1  \n",
       "\n",
       "[3 rows x 32 columns]"
      ]
     },
     "execution_count": 3,
     "metadata": {},
     "output_type": "execute_result"
    }
   ],
   "source": [
    "df[['adaby','math science','science science','undefined']]=pd.get_dummies(df['Department'])\n",
    "df[['sec_trial','fail','pass']]=pd.get_dummies(df['Status'])\n",
    "df.head(3)"
   ]
  },
  {
   "cell_type": "markdown",
   "id": "31464a68",
   "metadata": {},
   "source": [
    "##### remove the percentage sign in the Total percentage column"
   ]
  },
  {
   "cell_type": "code",
   "execution_count": 4,
   "id": "34141576",
   "metadata": {},
   "outputs": [],
   "source": [
    "df.TotalPercentage=df.TotalPercentage.str[:-1]\n",
    "df['TotalPercentage']=pd.to_numeric(df['TotalPercentage'])"
   ]
  },
  {
   "cell_type": "markdown",
   "id": "f1147c69",
   "metadata": {},
   "source": [
    "##### Drop unnecessary columns in the dataset \n",
    "<b>Name, School, StudentID, EducationZone</b>: all of them are usless to predicting the student's grade.<br><b> Religion, NationalEducation</b>: were removed due to having too many arabic string instead of int values.<br><b>EductionType</b>: only had two values (stduent, other kind) which were assigned to students who passed and students who failed respectively."
   ]
  },
  {
   "cell_type": "code",
   "execution_count": 5,
   "id": "9eab9df6",
   "metadata": {},
   "outputs": [
    {
     "data": {
      "text/plain": [
       "(107431, 23)"
      ]
     },
     "execution_count": 5,
     "metadata": {},
     "output_type": "execute_result"
    }
   ],
   "source": [
    "df.drop(['Name','School','StudentId','EducationZone','EductionType','Religion','NationalEducation','Status'],axis=1,inplace=True)\n",
    "df.drop(df[df['undefined']==1].index,inplace=True)\n",
    "df.drop(['undefined'],axis=1,inplace=True)\n",
    "df.shape"
   ]
  },
  {
   "cell_type": "markdown",
   "id": "1bbd0cc0",
   "metadata": {},
   "source": [
    "#### Remove all the rows with String Values in Arabic, FirstForeignLanguage, SecondForeignLanguage\n",
    "arabic_wrong contains all the possible arabic values.<br>\n",
    "Check for the arabic words and remove rows that contain them.<br>\n",
    "Convert all the values to intger type."
   ]
  },
  {
   "cell_type": "code",
   "execution_count": 6,
   "id": "b6874e2a",
   "metadata": {},
   "outputs": [
    {
     "name": "stdout",
     "output_type": "stream",
     "text": [
      "(106265, 23)\n"
     ]
    }
   ],
   "source": [
    "arabic_wrong = ['غائب', 'ملغى','مؤجل','إجتياز','معفى']\n",
    "arabic_str = '|'.join(arabic_wrong)\n",
    "df.drop(df.index[df['Arabic'].str.contains(arabic_str)],inplace=True)\n",
    "df.drop(df.index[df['FirstForeignLanguage'].str.contains(arabic_str)],inplace=True)\n",
    "df.drop(df.index[df['SecondForeignLanguage'].str.contains(arabic_str)],inplace=True)\n",
    "\n",
    "df['Arabic']=pd.to_numeric(df['Arabic'])\n",
    "df['FirstForeignLanguage']=pd.to_numeric(df['FirstForeignLanguage'])\n",
    "df['SecondForeignLanguage']=pd.to_numeric(df['SecondForeignLanguage'])\n",
    "print(df.shape)"
   ]
  },
  {
   "cell_type": "code",
   "execution_count": 7,
   "id": "9ed3481d",
   "metadata": {
    "scrolled": true
   },
   "outputs": [
    {
     "data": {
      "text/html": [
       "<div>\n",
       "<style scoped>\n",
       "    .dataframe tbody tr th:only-of-type {\n",
       "        vertical-align: middle;\n",
       "    }\n",
       "\n",
       "    .dataframe tbody tr th {\n",
       "        vertical-align: top;\n",
       "    }\n",
       "\n",
       "    .dataframe thead th {\n",
       "        text-align: right;\n",
       "    }\n",
       "</style>\n",
       "<table border=\"1\" class=\"dataframe\">\n",
       "  <thead>\n",
       "    <tr style=\"text-align: right;\">\n",
       "      <th></th>\n",
       "      <th>TotalGrades</th>\n",
       "      <th>TotalPercentage</th>\n",
       "      <th>Department</th>\n",
       "      <th>Arabic</th>\n",
       "      <th>FirstForeignLanguage</th>\n",
       "      <th>SecondForeignLanguage</th>\n",
       "      <th>DiscreteMath</th>\n",
       "      <th>History</th>\n",
       "      <th>Geography</th>\n",
       "      <th>Philosophy</th>\n",
       "      <th>...</th>\n",
       "      <th>Geology</th>\n",
       "      <th>AppliedMath</th>\n",
       "      <th>Physics</th>\n",
       "      <th>Statistics</th>\n",
       "      <th>adaby</th>\n",
       "      <th>math science</th>\n",
       "      <th>science science</th>\n",
       "      <th>sec_trial</th>\n",
       "      <th>fail</th>\n",
       "      <th>pass</th>\n",
       "    </tr>\n",
       "  </thead>\n",
       "  <tbody>\n",
       "    <tr>\n",
       "      <th>0</th>\n",
       "      <td>179.0</td>\n",
       "      <td>43.66</td>\n",
       "      <td>علمي علوم</td>\n",
       "      <td>45</td>\n",
       "      <td>13.0</td>\n",
       "      <td>20.0</td>\n",
       "      <td>NaN</td>\n",
       "      <td>NaN</td>\n",
       "      <td>NaN</td>\n",
       "      <td>NaN</td>\n",
       "      <td>...</td>\n",
       "      <td>25</td>\n",
       "      <td>NaN</td>\n",
       "      <td>30</td>\n",
       "      <td>إجتياز</td>\n",
       "      <td>0</td>\n",
       "      <td>0</td>\n",
       "      <td>1</td>\n",
       "      <td>0</td>\n",
       "      <td>1</td>\n",
       "      <td>0</td>\n",
       "    </tr>\n",
       "    <tr>\n",
       "      <th>1</th>\n",
       "      <td>342.0</td>\n",
       "      <td>83.41</td>\n",
       "      <td>علمي علوم</td>\n",
       "      <td>68</td>\n",
       "      <td>42.0</td>\n",
       "      <td>39.0</td>\n",
       "      <td>NaN</td>\n",
       "      <td>NaN</td>\n",
       "      <td>NaN</td>\n",
       "      <td>NaN</td>\n",
       "      <td>...</td>\n",
       "      <td>54</td>\n",
       "      <td>NaN</td>\n",
       "      <td>46</td>\n",
       "      <td>إجتياز</td>\n",
       "      <td>0</td>\n",
       "      <td>0</td>\n",
       "      <td>1</td>\n",
       "      <td>0</td>\n",
       "      <td>0</td>\n",
       "      <td>1</td>\n",
       "    </tr>\n",
       "    <tr>\n",
       "      <th>2</th>\n",
       "      <td>303.0</td>\n",
       "      <td>73.90</td>\n",
       "      <td>علمي علوم</td>\n",
       "      <td>64</td>\n",
       "      <td>37.0</td>\n",
       "      <td>24.0</td>\n",
       "      <td>NaN</td>\n",
       "      <td>NaN</td>\n",
       "      <td>NaN</td>\n",
       "      <td>NaN</td>\n",
       "      <td>...</td>\n",
       "      <td>51</td>\n",
       "      <td>NaN</td>\n",
       "      <td>44</td>\n",
       "      <td>إجتياز</td>\n",
       "      <td>0</td>\n",
       "      <td>0</td>\n",
       "      <td>1</td>\n",
       "      <td>0</td>\n",
       "      <td>0</td>\n",
       "      <td>1</td>\n",
       "    </tr>\n",
       "  </tbody>\n",
       "</table>\n",
       "<p>3 rows × 23 columns</p>\n",
       "</div>"
      ],
      "text/plain": [
       "   TotalGrades  TotalPercentage Department  Arabic  FirstForeignLanguage  \\\n",
       "0        179.0            43.66  علمي علوم      45                  13.0   \n",
       "1        342.0            83.41  علمي علوم      68                  42.0   \n",
       "2        303.0            73.90  علمي علوم      64                  37.0   \n",
       "\n",
       "   SecondForeignLanguage DiscreteMath History Geography Philosophy  ...  \\\n",
       "0                   20.0          NaN     NaN       NaN        NaN  ...   \n",
       "1                   39.0          NaN     NaN       NaN        NaN  ...   \n",
       "2                   24.0          NaN     NaN       NaN        NaN  ...   \n",
       "\n",
       "  Geology AppliedMath Physics Statistics adaby math science science science  \\\n",
       "0      25         NaN      30     إجتياز     0            0               1   \n",
       "1      54         NaN      46     إجتياز     0            0               1   \n",
       "2      51         NaN      44     إجتياز     0            0               1   \n",
       "\n",
       "   sec_trial  fail  pass  \n",
       "0          0     1     0  \n",
       "1          0     0     1  \n",
       "2          0     0     1  \n",
       "\n",
       "[3 rows x 23 columns]"
      ]
     },
     "execution_count": 7,
     "metadata": {},
     "output_type": "execute_result"
    }
   ],
   "source": [
    "df.head(3)"
   ]
  },
  {
   "cell_type": "markdown",
   "id": "d603f87e",
   "metadata": {},
   "source": [
    "## Education groups"
   ]
  },
  {
   "cell_type": "markdown",
   "id": "35e2a53c",
   "metadata": {},
   "source": [
    "#### Sort the Dataset into diffrent groups depending on the Thanawya Amma Education system\n",
    "Sort all the students groups in diffrent Dataframes"
   ]
  },
  {
   "cell_type": "code",
   "execution_count": 8,
   "id": "ccd87dec",
   "metadata": {},
   "outputs": [],
   "source": [
    "adaby_df=df[df['adaby']==1]\n",
    "alm_3lom_df=df[df['science science']==1]\n",
    "alm_ryada_df=df[df['math science']==1]"
   ]
  },
  {
   "cell_type": "markdown",
   "id": "80237493",
   "metadata": {},
   "source": [
    "##### size and percentage of each group"
   ]
  },
  {
   "cell_type": "code",
   "execution_count": 9,
   "id": "3d3b8534",
   "metadata": {},
   "outputs": [
    {
     "name": "stdout",
     "output_type": "stream",
     "text": [
      "46228 40576 19461\n",
      "adaby:  43.50256434385734\n",
      "alm 3lom:  38.183785818472685\n",
      "alm ryada:  18.313649837669978\n"
     ]
    }
   ],
   "source": [
    "a=adaby_df.shape[0]\n",
    "l=alm_3lom_df.shape[0]\n",
    "r=alm_ryada_df.shape[0]\n",
    "print(a,l,r)\n",
    "print('adaby: ',a/(a+l+r)*100)\n",
    "print('alm 3lom: ',l/(a+l+r)*100)\n",
    "print('alm ryada: ',r/(a+l+r)*100)"
   ]
  },
  {
   "cell_type": "markdown",
   "id": "323fa410",
   "metadata": {},
   "source": [
    "#### Remove all the irrelevant subjects to each group. Only keep the important columns."
   ]
  },
  {
   "cell_type": "code",
   "execution_count": 10,
   "id": "90be77c4",
   "metadata": {},
   "outputs": [
    {
     "name": "stderr",
     "output_type": "stream",
     "text": [
      "C:\\Users\\Mgala\\anaconda3\\lib\\site-packages\\pandas\\core\\frame.py:4906: SettingWithCopyWarning: \n",
      "A value is trying to be set on a copy of a slice from a DataFrame\n",
      "\n",
      "See the caveats in the documentation: https://pandas.pydata.org/pandas-docs/stable/user_guide/indexing.html#returning-a-view-versus-a-copy\n",
      "  return super().drop(\n"
     ]
    }
   ],
   "source": [
    "adaby_df.drop(['Statistics','DiscreteMath','Chemistry','Biology', 'Geology',\n",
    "               'AppliedMath', 'Physics','adaby', 'math science','science science','Department'], axis=1,inplace=True) \n",
    "alm_3lom_df.drop(['DiscreteMath','History', 'Geography', 'Philosophy','AppliedMath',\n",
    "                  'Psychology','adaby', 'math science','science science','Department'], axis=1,inplace=True)\n",
    "alm_ryada_df.drop(['History', 'Geography', 'Philosophy', 'Psychology', 'Biology',\n",
    "                   'Geology','adaby', 'math science', 'science science','Department'], axis=1,inplace=True)"
   ]
  },
  {
   "cell_type": "markdown",
   "id": "e11c9050",
   "metadata": {},
   "source": [
    "Check all the columns for arabic strings"
   ]
  },
  {
   "cell_type": "code",
   "execution_count": 11,
   "id": "cf6bb6bf",
   "metadata": {},
   "outputs": [
    {
     "name": "stdout",
     "output_type": "stream",
     "text": [
      "adaby History 31\n",
      "adaby Geography 26\n",
      "adaby Philosophy 36\n",
      "adaby Psychology 23\n",
      "alm3lom Chemistry 74\n",
      "alm3lom Biology 66\n",
      "alm3lom Geology 55\n",
      "alm3lom Physics 108\n",
      "alm3lom Statistics 39741\n",
      "almryada DiscreteMath 24\n",
      "almryada Chemistry 26\n",
      "almryada AppliedMath 34\n",
      "almryada Physics 28\n",
      "almryada Statistics 19075\n"
     ]
    }
   ],
   "source": [
    "for i in ['History', 'Geography', 'Philosophy', 'Psychology']:\n",
    "    print('adaby',i,(adaby_df[adaby_df[i].str.contains(arabic_str)]).shape[0])\n",
    "for i in ['Chemistry', 'Biology', 'Geology', 'Physics','Statistics']:\n",
    "    print('alm3lom',i,(alm_3lom_df[alm_3lom_df[i].str.contains(arabic_str)]).shape[0])\n",
    "for i in ['DiscreteMath', 'Chemistry', 'AppliedMath','Physics', 'Statistics']:\n",
    "    print('almryada',i,(alm_ryada_df[alm_ryada_df[i].str.contains(arabic_str)]).shape[0])"
   ]
  },
  {
   "cell_type": "markdown",
   "id": "23dfb773",
   "metadata": {},
   "source": [
    "#### as showen, The statistics subject seems to have the most string values that can't be used for analysis, and so , we will remove it.\n",
    "As removing the rows that contain the arabic strings in the statistics column will delete a big portion of students"
   ]
  },
  {
   "cell_type": "code",
   "execution_count": 12,
   "id": "1c84a0a2",
   "metadata": {},
   "outputs": [],
   "source": [
    "alm_3lom_df.drop(['Statistics'], axis=1,inplace=True)\n",
    "alm_ryada_df.drop(['Statistics'], axis=1,inplace=True)"
   ]
  },
  {
   "cell_type": "markdown",
   "id": "dd0eb3b0",
   "metadata": {},
   "source": [
    "#### remove any string values in all the groups for all the subjects"
   ]
  },
  {
   "cell_type": "code",
   "execution_count": 13,
   "id": "0ac22093",
   "metadata": {},
   "outputs": [
    {
     "name": "stderr",
     "output_type": "stream",
     "text": [
      "C:\\Users\\Mgala\\AppData\\Local\\Temp/ipykernel_15568/3509217463.py:3: SettingWithCopyWarning: \n",
      "A value is trying to be set on a copy of a slice from a DataFrame.\n",
      "Try using .loc[row_indexer,col_indexer] = value instead\n",
      "\n",
      "See the caveats in the documentation: https://pandas.pydata.org/pandas-docs/stable/user_guide/indexing.html#returning-a-view-versus-a-copy\n",
      "  adaby_df[i]=pd.to_numeric(adaby_df[i])\n",
      "C:\\Users\\Mgala\\AppData\\Local\\Temp/ipykernel_15568/3509217463.py:6: SettingWithCopyWarning: \n",
      "A value is trying to be set on a copy of a slice from a DataFrame.\n",
      "Try using .loc[row_indexer,col_indexer] = value instead\n",
      "\n",
      "See the caveats in the documentation: https://pandas.pydata.org/pandas-docs/stable/user_guide/indexing.html#returning-a-view-versus-a-copy\n",
      "  alm_3lom_df[i]=pd.to_numeric(alm_3lom_df[i])\n",
      "C:\\Users\\Mgala\\AppData\\Local\\Temp/ipykernel_15568/3509217463.py:9: SettingWithCopyWarning: \n",
      "A value is trying to be set on a copy of a slice from a DataFrame.\n",
      "Try using .loc[row_indexer,col_indexer] = value instead\n",
      "\n",
      "See the caveats in the documentation: https://pandas.pydata.org/pandas-docs/stable/user_guide/indexing.html#returning-a-view-versus-a-copy\n",
      "  alm_ryada_df[i]=pd.to_numeric(alm_ryada_df[i])\n"
     ]
    }
   ],
   "source": [
    "for i in ['History', 'Geography', 'Philosophy', 'Psychology']:\n",
    "    adaby_df.drop(adaby_df.index[adaby_df[i].str.contains(arabic_str)],inplace=True)\n",
    "    adaby_df[i]=pd.to_numeric(adaby_df[i])\n",
    "for i in ['Chemistry', 'Biology', 'Geology', 'Physics']:\n",
    "    alm_3lom_df.drop(alm_3lom_df.index[alm_3lom_df[i].str.contains(arabic_str)],inplace=True)\n",
    "    alm_3lom_df[i]=pd.to_numeric(alm_3lom_df[i])\n",
    "for i in ['DiscreteMath', 'Chemistry', 'AppliedMath','Physics']:\n",
    "    alm_ryada_df.drop(alm_ryada_df.index[alm_ryada_df[i].str.contains(arabic_str)],inplace=True)\n",
    "    alm_ryada_df[i]=pd.to_numeric(alm_ryada_df[i])"
   ]
  },
  {
   "cell_type": "markdown",
   "id": "d6d6616c",
   "metadata": {},
   "source": [
    "#### Get the percentage of each Group."
   ]
  },
  {
   "cell_type": "code",
   "execution_count": 14,
   "id": "51badbcf",
   "metadata": {},
   "outputs": [
    {
     "name": "stdout",
     "output_type": "stream",
     "text": [
      "adaby:  43.53381968497249\n",
      "alm 3lom:  38.14494285525534\n",
      "alm ryada:  18.321237459772178\n"
     ]
    }
   ],
   "source": [
    "a=adaby_df.shape[0]\n",
    "l=alm_3lom_df.shape[0]\n",
    "r=alm_ryada_df.shape[0]\n",
    "print('adaby: ',a/(a+l+r)*100)\n",
    "print('alm 3lom: ',l/(a+l+r)*100)\n",
    "print('alm ryada: ',r/(a+l+r)*100)"
   ]
  },
  {
   "cell_type": "markdown",
   "id": "2dc92cc0",
   "metadata": {},
   "source": [
    "### Check for any Null Values"
   ]
  },
  {
   "cell_type": "code",
   "execution_count": 15,
   "id": "aa8ecda6",
   "metadata": {},
   "outputs": [
    {
     "name": "stdout",
     "output_type": "stream",
     "text": [
      "<class 'pandas.core.frame.DataFrame'>\n",
      "Int64Index: 46128 entries, 83 to 109705\n",
      "Data columns (total 12 columns):\n",
      " #   Column                 Non-Null Count  Dtype  \n",
      "---  ------                 --------------  -----  \n",
      " 0   TotalGrades            46128 non-null  float64\n",
      " 1   TotalPercentage        46128 non-null  float64\n",
      " 2   Arabic                 46128 non-null  int64  \n",
      " 3   FirstForeignLanguage   46128 non-null  float64\n",
      " 4   SecondForeignLanguage  46128 non-null  float64\n",
      " 5   History                46128 non-null  float64\n",
      " 6   Geography              46128 non-null  float64\n",
      " 7   Philosophy             46128 non-null  float64\n",
      " 8   Psychology             46128 non-null  float64\n",
      " 9   sec_trial              46128 non-null  uint8  \n",
      " 10  fail                   46128 non-null  uint8  \n",
      " 11  pass                   46128 non-null  uint8  \n",
      "dtypes: float64(8), int64(1), uint8(3)\n",
      "memory usage: 3.7 MB\n"
     ]
    }
   ],
   "source": [
    "adaby_df.info()"
   ]
  },
  {
   "cell_type": "code",
   "execution_count": 16,
   "id": "8f1550fa",
   "metadata": {},
   "outputs": [
    {
     "name": "stdout",
     "output_type": "stream",
     "text": [
      "<class 'pandas.core.frame.DataFrame'>\n",
      "Int64Index: 40418 entries, 0 to 109951\n",
      "Data columns (total 12 columns):\n",
      " #   Column                 Non-Null Count  Dtype  \n",
      "---  ------                 --------------  -----  \n",
      " 0   TotalGrades            40418 non-null  float64\n",
      " 1   TotalPercentage        40418 non-null  float64\n",
      " 2   Arabic                 40418 non-null  int64  \n",
      " 3   FirstForeignLanguage   40418 non-null  float64\n",
      " 4   SecondForeignLanguage  40418 non-null  float64\n",
      " 5   Chemistry              40418 non-null  float64\n",
      " 6   Biology                40418 non-null  float64\n",
      " 7   Geology                40418 non-null  float64\n",
      " 8   Physics                40418 non-null  float64\n",
      " 9   sec_trial              40418 non-null  uint8  \n",
      " 10  fail                   40418 non-null  uint8  \n",
      " 11  pass                   40418 non-null  uint8  \n",
      "dtypes: float64(8), int64(1), uint8(3)\n",
      "memory usage: 3.2 MB\n"
     ]
    }
   ],
   "source": [
    "alm_3lom_df.info()"
   ]
  },
  {
   "cell_type": "code",
   "execution_count": 17,
   "id": "9952acc4",
   "metadata": {},
   "outputs": [
    {
     "name": "stdout",
     "output_type": "stream",
     "text": [
      "<class 'pandas.core.frame.DataFrame'>\n",
      "Int64Index: 19413 entries, 28 to 109457\n",
      "Data columns (total 12 columns):\n",
      " #   Column                 Non-Null Count  Dtype  \n",
      "---  ------                 --------------  -----  \n",
      " 0   TotalGrades            19413 non-null  float64\n",
      " 1   TotalPercentage        19413 non-null  float64\n",
      " 2   Arabic                 19413 non-null  int64  \n",
      " 3   FirstForeignLanguage   19413 non-null  float64\n",
      " 4   SecondForeignLanguage  19413 non-null  float64\n",
      " 5   DiscreteMath           19413 non-null  float64\n",
      " 6   Chemistry              19413 non-null  float64\n",
      " 7   AppliedMath            19413 non-null  float64\n",
      " 8   Physics                19413 non-null  float64\n",
      " 9   sec_trial              19413 non-null  uint8  \n",
      " 10  fail                   19413 non-null  uint8  \n",
      " 11  pass                   19413 non-null  uint8  \n",
      "dtypes: float64(8), int64(1), uint8(3)\n",
      "memory usage: 1.5 MB\n"
     ]
    }
   ],
   "source": [
    "alm_ryada_df.info()"
   ]
  },
  {
   "cell_type": "code",
   "execution_count": 18,
   "id": "5d591ea1",
   "metadata": {},
   "outputs": [
    {
     "name": "stdout",
     "output_type": "stream",
     "text": [
      "<class 'pandas.core.frame.DataFrame'>\n",
      "Int64Index: 106265 entries, 0 to 109951\n",
      "Data columns (total 23 columns):\n",
      " #   Column                 Non-Null Count   Dtype  \n",
      "---  ------                 --------------   -----  \n",
      " 0   TotalGrades            106265 non-null  float64\n",
      " 1   TotalPercentage        106265 non-null  float64\n",
      " 2   Department             106265 non-null  object \n",
      " 3   Arabic                 106265 non-null  int64  \n",
      " 4   FirstForeignLanguage   106265 non-null  float64\n",
      " 5   SecondForeignLanguage  106265 non-null  float64\n",
      " 6   DiscreteMath           19461 non-null   object \n",
      " 7   History                46228 non-null   object \n",
      " 8   Geography              46228 non-null   object \n",
      " 9   Philosophy             46228 non-null   object \n",
      " 10  Psychology             46228 non-null   object \n",
      " 11  Chemistry              60037 non-null   object \n",
      " 12  Biology                40576 non-null   object \n",
      " 13  Geology                40576 non-null   object \n",
      " 14  AppliedMath            19461 non-null   object \n",
      " 15  Physics                60037 non-null   object \n",
      " 16  Statistics             106265 non-null  object \n",
      " 17  adaby                  106265 non-null  uint8  \n",
      " 18  math science           106265 non-null  uint8  \n",
      " 19  science science        106265 non-null  uint8  \n",
      " 20  sec_trial              106265 non-null  uint8  \n",
      " 21  fail                   106265 non-null  uint8  \n",
      " 22  pass                   106265 non-null  uint8  \n",
      "dtypes: float64(4), int64(1), object(12), uint8(6)\n",
      "memory usage: 15.2+ MB\n"
     ]
    }
   ],
   "source": [
    "df.info()"
   ]
  },
  {
   "cell_type": "markdown",
   "id": "4c341c81",
   "metadata": {},
   "source": [
    "# 3- Analysis "
   ]
  },
  {
   "cell_type": "markdown",
   "id": "36b02a50",
   "metadata": {},
   "source": [
    "## Q1) Which Subject in Adaby is considered the Hardest?<br>\n",
    "### We can answer this by plotting the Data and See which studnets above 60% total percentage can score high in the selected subject.<br><br>Also Created a normilized Version of the adaby group, because Arabic is graded from 80 so, we used a normilizer that turned the values range from 0 to 60 to better measure the diffrence<br><br>"
   ]
  },
  {
   "cell_type": "markdown",
   "id": "4f1a6b5a",
   "metadata": {},
   "source": [
    "<b>scaler</b>: function used to change the range of values for each column<br>\n",
    "<b>adaby_normilized_60</b>: dataframe that contain the norimlized adaby dataframe"
   ]
  },
  {
   "cell_type": "code",
   "execution_count": 19,
   "id": "cab20f44",
   "metadata": {},
   "outputs": [],
   "source": [
    "scaler = MinMaxScaler(feature_range=(0, 60))\n",
    "\n",
    "#adaby_normilized_60 = pd.DataFrame(scaler.fit_transform(adaby_df), columns=adaby_df.columns)\n",
    "adaby_normilized_60=pd.DataFrame()\n",
    "adaby_normilized_60[['Arabic', 'FirstForeignLanguage','SecondForeignLanguage',\n",
    "                     'History', 'Geography', 'Philosophy',\n",
    "                     'Psychology']] = scaler.fit_transform(adaby_df[['Arabic', 'FirstForeignLanguage','SecondForeignLanguage',\n",
    "                                                                     'History', 'Geography', 'Philosophy','Psychology']])\n",
    "scaler = MinMaxScaler(feature_range=(0,100))\n",
    "adaby_normilized_60[['TotalGrades']] = scaler.fit_transform(adaby_df[['TotalGrades']])\n",
    "adaby_normilized_60[['TotalPercentage']]=adaby_df[['TotalPercentage']]"
   ]
  },
  {
   "cell_type": "markdown",
   "id": "17b7955a",
   "metadata": {},
   "source": [
    "##### Check for the change of values<br><br>as showen minimum values have changed for each column as expected"
   ]
  },
  {
   "cell_type": "code",
   "execution_count": 20,
   "id": "5a78380c",
   "metadata": {},
   "outputs": [
    {
     "data": {
      "text/html": [
       "<div>\n",
       "<style scoped>\n",
       "    .dataframe tbody tr th:only-of-type {\n",
       "        vertical-align: middle;\n",
       "    }\n",
       "\n",
       "    .dataframe tbody tr th {\n",
       "        vertical-align: top;\n",
       "    }\n",
       "\n",
       "    .dataframe thead th {\n",
       "        text-align: right;\n",
       "    }\n",
       "</style>\n",
       "<table border=\"1\" class=\"dataframe\">\n",
       "  <thead>\n",
       "    <tr style=\"text-align: right;\">\n",
       "      <th></th>\n",
       "      <th>Arabic</th>\n",
       "      <th>FirstForeignLanguage</th>\n",
       "      <th>SecondForeignLanguage</th>\n",
       "      <th>History</th>\n",
       "      <th>Geography</th>\n",
       "      <th>Philosophy</th>\n",
       "      <th>Psychology</th>\n",
       "      <th>TotalGrades</th>\n",
       "      <th>TotalPercentage</th>\n",
       "    </tr>\n",
       "  </thead>\n",
       "  <tbody>\n",
       "    <tr>\n",
       "      <th>count</th>\n",
       "      <td>46128.000000</td>\n",
       "      <td>46128.000000</td>\n",
       "      <td>46128.000000</td>\n",
       "      <td>46128.000000</td>\n",
       "      <td>46128.000000</td>\n",
       "      <td>46128.000000</td>\n",
       "      <td>46128.000000</td>\n",
       "      <td>46128.000000</td>\n",
       "      <td>18359.000000</td>\n",
       "    </tr>\n",
       "    <tr>\n",
       "      <th>mean</th>\n",
       "      <td>32.292062</td>\n",
       "      <td>34.394758</td>\n",
       "      <td>34.487213</td>\n",
       "      <td>32.832282</td>\n",
       "      <td>33.789518</td>\n",
       "      <td>41.472956</td>\n",
       "      <td>35.397187</td>\n",
       "      <td>53.344278</td>\n",
       "      <td>59.175556</td>\n",
       "    </tr>\n",
       "    <tr>\n",
       "      <th>std</th>\n",
       "      <td>6.654355</td>\n",
       "      <td>10.558780</td>\n",
       "      <td>12.979602</td>\n",
       "      <td>10.790797</td>\n",
       "      <td>10.036582</td>\n",
       "      <td>9.885560</td>\n",
       "      <td>8.184513</td>\n",
       "      <td>14.198096</td>\n",
       "      <td>11.119413</td>\n",
       "    </tr>\n",
       "    <tr>\n",
       "      <th>min</th>\n",
       "      <td>0.000000</td>\n",
       "      <td>0.000000</td>\n",
       "      <td>0.000000</td>\n",
       "      <td>0.000000</td>\n",
       "      <td>0.000000</td>\n",
       "      <td>0.000000</td>\n",
       "      <td>0.000000</td>\n",
       "      <td>0.000000</td>\n",
       "      <td>22.440000</td>\n",
       "    </tr>\n",
       "    <tr>\n",
       "      <th>25%</th>\n",
       "      <td>30.000000</td>\n",
       "      <td>30.000000</td>\n",
       "      <td>29.230769</td>\n",
       "      <td>30.000000</td>\n",
       "      <td>29.491525</td>\n",
       "      <td>34.000000</td>\n",
       "      <td>28.928571</td>\n",
       "      <td>43.571429</td>\n",
       "      <td>51.710000</td>\n",
       "    </tr>\n",
       "    <tr>\n",
       "      <th>50%</th>\n",
       "      <td>31.500000</td>\n",
       "      <td>32.400000</td>\n",
       "      <td>30.769231</td>\n",
       "      <td>31.000000</td>\n",
       "      <td>32.542373</td>\n",
       "      <td>42.000000</td>\n",
       "      <td>36.428571</td>\n",
       "      <td>52.857143</td>\n",
       "      <td>59.020000</td>\n",
       "    </tr>\n",
       "    <tr>\n",
       "      <th>75%</th>\n",
       "      <td>36.000000</td>\n",
       "      <td>42.000000</td>\n",
       "      <td>43.076923</td>\n",
       "      <td>40.000000</td>\n",
       "      <td>40.677966</td>\n",
       "      <td>49.000000</td>\n",
       "      <td>41.785714</td>\n",
       "      <td>63.142857</td>\n",
       "      <td>66.830000</td>\n",
       "    </tr>\n",
       "    <tr>\n",
       "      <th>max</th>\n",
       "      <td>60.000000</td>\n",
       "      <td>60.000000</td>\n",
       "      <td>60.000000</td>\n",
       "      <td>60.000000</td>\n",
       "      <td>60.000000</td>\n",
       "      <td>60.000000</td>\n",
       "      <td>60.000000</td>\n",
       "      <td>100.000000</td>\n",
       "      <td>92.680000</td>\n",
       "    </tr>\n",
       "  </tbody>\n",
       "</table>\n",
       "</div>"
      ],
      "text/plain": [
       "             Arabic  FirstForeignLanguage  SecondForeignLanguage  \\\n",
       "count  46128.000000          46128.000000           46128.000000   \n",
       "mean      32.292062             34.394758              34.487213   \n",
       "std        6.654355             10.558780              12.979602   \n",
       "min        0.000000              0.000000               0.000000   \n",
       "25%       30.000000             30.000000              29.230769   \n",
       "50%       31.500000             32.400000              30.769231   \n",
       "75%       36.000000             42.000000              43.076923   \n",
       "max       60.000000             60.000000              60.000000   \n",
       "\n",
       "            History     Geography    Philosophy    Psychology   TotalGrades  \\\n",
       "count  46128.000000  46128.000000  46128.000000  46128.000000  46128.000000   \n",
       "mean      32.832282     33.789518     41.472956     35.397187     53.344278   \n",
       "std       10.790797     10.036582      9.885560      8.184513     14.198096   \n",
       "min        0.000000      0.000000      0.000000      0.000000      0.000000   \n",
       "25%       30.000000     29.491525     34.000000     28.928571     43.571429   \n",
       "50%       31.000000     32.542373     42.000000     36.428571     52.857143   \n",
       "75%       40.000000     40.677966     49.000000     41.785714     63.142857   \n",
       "max       60.000000     60.000000     60.000000     60.000000    100.000000   \n",
       "\n",
       "       TotalPercentage  \n",
       "count     18359.000000  \n",
       "mean         59.175556  \n",
       "std          11.119413  \n",
       "min          22.440000  \n",
       "25%          51.710000  \n",
       "50%          59.020000  \n",
       "75%          66.830000  \n",
       "max          92.680000  "
      ]
     },
     "execution_count": 20,
     "metadata": {},
     "output_type": "execute_result"
    }
   ],
   "source": [
    "adaby_normilized_60.describe()"
   ]
  },
  {
   "cell_type": "markdown",
   "id": "078d837a",
   "metadata": {},
   "source": [
    "### The Empty Part of the Plots is String values that were deleted from the dataset, and rows that contained one Null values, so please ignore them."
   ]
  },
  {
   "cell_type": "markdown",
   "id": "a8389d3a",
   "metadata": {},
   "source": [
    "#### Students who score higher than 60% get better scores in History more than Psychology"
   ]
  },
  {
   "cell_type": "code",
   "execution_count": 21,
   "id": "ec4f1336",
   "metadata": {},
   "outputs": [
    {
     "data": {
      "image/png": "[encoded data removed]",
      "text/plain": [
       "<Figure size 432x288 with 2 Axes>"
      ]
     },
     "metadata": {
      "needs_background": "light"
     },
     "output_type": "display_data"
    }
   ],
   "source": [
    "x=adaby_df.TotalPercentage\n",
    "fig, (ax1, ax2) = plt.subplots(2,sharex=True)\n",
    "ax1.set_title(\"History\")\n",
    "ax2.set_title(\"Psychology\")\n",
    "plt.subplots_adjust(bottom=-1, right=1, top=0.9)\n",
    "ax1.scatter(x,adaby_normilized_60.History);\n",
    "ax2.scatter(x,adaby_normilized_60.Psychology);"
   ]
  },
  {
   "cell_type": "markdown",
   "id": "7f837d78",
   "metadata": {},
   "source": [
    "#### Students who Score more that 60% seem to do well on Philosophy and Geography"
   ]
  },
  {
   "cell_type": "code",
   "execution_count": 22,
   "id": "e5fab8df",
   "metadata": {},
   "outputs": [
    {
     "data": {
      "image/png": "[encoded data removed]",
      "text/plain": [
       "<Figure size 432x288 with 2 Axes>"
      ]
     },
     "metadata": {
      "needs_background": "light"
     },
     "output_type": "display_data"
    }
   ],
   "source": [
    "fig, (ax1, ax2) = plt.subplots(2,sharex=True)\n",
    "ax1.set_title(\"Philosophy\")\n",
    "ax2.set_title(\"Geography\")\n",
    "plt.subplots_adjust(bottom=-1, right=1, top=0.9)\n",
    "ax1.scatter(x,adaby_normilized_60.Philosophy);\n",
    "ax2.scatter(x,adaby_normilized_60.Geography);"
   ]
  },
  {
   "cell_type": "markdown",
   "id": "0c1ac5d8",
   "metadata": {},
   "source": [
    "#### Comparing Philosophy and arabic. It seems that students who score higher than 60% in adaby have the worst subject scores in arabic compared to other subjects.<br><br>The Decline in the arabic graph after 60% indicates that arabic could be the hardest subject"
   ]
  },
  {
   "cell_type": "code",
   "execution_count": 23,
   "id": "7a406d56",
   "metadata": {},
   "outputs": [
    {
     "data": {
      "image/png": "[encoded data removed]",
      "text/plain": [
       "<Figure size 432x288 with 2 Axes>"
      ]
     },
     "metadata": {
      "needs_background": "light"
     },
     "output_type": "display_data"
    }
   ],
   "source": [
    "fig, (ax1, ax2) = plt.subplots(2,sharex=True)\n",
    "ax1.set_title(\"Philosophy\")\n",
    "ax2.set_title(\"Arabic\")\n",
    "plt.subplots_adjust(bottom=-1, right=1, top=0.9)\n",
    "ax1.scatter(x,adaby_normilized_60.Philosophy);\n",
    "ax2.scatter(x,adaby_normilized_60.Arabic);\n",
    "ax1.axvline(x=60, ymin=0, ymax=60, color='r');\n",
    "ax2.axvline(x=60, ymin=0, ymax=60, color='r');"
   ]
  },
  {
   "cell_type": "markdown",
   "id": "9fa79615",
   "metadata": {},
   "source": [
    "### Conclusion<br>It seems that arabic does have a linear relation with the total grade that indicating that students find it harder than other subjects.<br>using a regression model, we will prove this relation numerically."
   ]
  },
  {
   "cell_type": "markdown",
   "id": "6d093f9e",
   "metadata": {},
   "source": [
    "## Regression Model approach"
   ]
  },
  {
   "cell_type": "markdown",
   "id": "983bb87f",
   "metadata": {},
   "source": [
    "#### Create a multi regression model to compare between the adaby subjects and thier relation with the Total Grade"
   ]
  },
  {
   "cell_type": "code",
   "execution_count": 24,
   "id": "9e0a0a4c",
   "metadata": {},
   "outputs": [
    {
     "name": "stdout",
     "output_type": "stream",
     "text": [
      "                            OLS Regression Results                            \n",
      "==============================================================================\n",
      "Dep. Variable:            TotalGrades   R-squared:                       0.948\n",
      "Model:                            OLS   Adj. R-squared:                  0.948\n",
      "Method:                 Least Squares   F-statistic:                 1.680e+05\n",
      "Date:                Fri, 22 Apr 2022   Prob (F-statistic):               0.00\n",
      "Time:                        13:23:19   Log-Likelihood:            -1.1967e+05\n",
      "No. Observations:               46128   AIC:                         2.393e+05\n",
      "Df Residuals:                   46122   BIC:                         2.394e+05\n",
      "Df Model:                           5                                         \n",
      "Covariance Type:            nonrobust                                         \n",
      "==============================================================================\n",
      "                 coef    std err          t      P>|t|      [0.025      0.975]\n",
      "------------------------------------------------------------------------------\n",
      "Arabic         0.4666      0.003    153.948      0.000       0.461       0.473\n",
      "History        0.3471      0.002    160.451      0.000       0.343       0.351\n",
      "Geography      0.3560      0.002    160.738      0.000       0.352       0.360\n",
      "Philosophy     0.3541      0.002    142.680      0.000       0.349       0.359\n",
      "Psychology     0.3218      0.003    118.093      0.000       0.316       0.327\n",
      "intercept    -11.2293      0.082   -137.181      0.000     -11.390     -11.069\n",
      "==============================================================================\n",
      "Omnibus:                        3.936   Durbin-Watson:                   1.141\n",
      "Prob(Omnibus):                  0.140   Jarque-Bera (JB):                3.935\n",
      "Skew:                           0.023   Prob(JB):                        0.140\n",
      "Kurtosis:                       3.000   Cond. No.                         439.\n",
      "==============================================================================\n",
      "\n",
      "Notes:\n",
      "[1] Standard Errors assume that the covariance matrix of the errors is correctly specified.\n"
     ]
    }
   ],
   "source": [
    "adaby_normilized_60['intercept']=1\n",
    "model = sm.OLS(adaby_normilized_60['TotalGrades'], adaby_normilized_60[['Arabic',\n",
    "                                                                 'History', \n",
    "                                                                 'Geography', \n",
    "                                                                 'Philosophy', \n",
    "                                                                 'Psychology',\n",
    "                                                                 'intercept']])\n",
    "regression_model = model.fit()\n",
    "print(regression_model.summary())"
   ]
  },
  {
   "cell_type": "markdown",
   "id": "6e29f15f",
   "metadata": {},
   "source": [
    "\n",
    "##### Coffecinets measure the relation between the dependent variable and the independent variables.<br>\n",
    "<b>Coffecinet of 1 indicates that it is positively directly related, and 0 indicates no relationship between the variables.</b><br><b>intercept</b>: is used to center the R squared value which better calculates the Coffecinets<br><b>R squared</b>: shows the credibility of this report and how statistically correct is it\n",
    "\n",
    "\n",
    "\n",
    "#### Output: Arabic has the biggest relation coefficient of 0.466 meaning that it is statistically correlated with the total grade.<br>The Report has an R squared value of 0.948 meaning we can say the past conclusion with 94% certainty<br><br><br><br>\n",
    "\n"
   ]
  },
  {
   "cell_type": "markdown",
   "id": "23dea9de",
   "metadata": {},
   "source": [
    "### Remove all students that scored less than 30 in all subjects and less than 60 in the total grade.\n",
    "Only keeping students with considirible good grades to better calculate the relation.\n"
   ]
  },
  {
   "cell_type": "code",
   "execution_count": 25,
   "id": "7adb78f9",
   "metadata": {},
   "outputs": [],
   "source": [
    "for i in ['History', 'Geography', 'Philosophy', 'Psychology','Arabic']:\n",
    "    adaby_normilized_60.drop(adaby_normilized_60.index[adaby_normilized_60[i]<30],inplace=True)\n",
    "    \n",
    "adaby_normilized_60.drop(adaby_normilized_60.index[adaby_normilized_60['TotalGrades']<60],inplace=True)"
   ]
  },
  {
   "cell_type": "code",
   "execution_count": 26,
   "id": "d9a4a3b6",
   "metadata": {
    "scrolled": true
   },
   "outputs": [
    {
     "data": {
      "text/plain": [
       "(14261, 10)"
      ]
     },
     "execution_count": 26,
     "metadata": {},
     "output_type": "execute_result"
    }
   ],
   "source": [
    "adaby_normilized_60.shape"
   ]
  },
  {
   "cell_type": "code",
   "execution_count": 27,
   "id": "14ea4678",
   "metadata": {},
   "outputs": [
    {
     "name": "stdout",
     "output_type": "stream",
     "text": [
      "                            OLS Regression Results                            \n",
      "==============================================================================\n",
      "Dep. Variable:            TotalGrades   R-squared:                       0.824\n",
      "Model:                            OLS   Adj. R-squared:                  0.824\n",
      "Method:                 Least Squares   F-statistic:                 1.336e+04\n",
      "Date:                Fri, 22 Apr 2022   Prob (F-statistic):               0.00\n",
      "Time:                        13:23:19   Log-Likelihood:                -35934.\n",
      "No. Observations:               14261   AIC:                         7.188e+04\n",
      "Df Residuals:                   14255   BIC:                         7.192e+04\n",
      "Df Model:                           5                                         \n",
      "Covariance Type:            nonrobust                                         \n",
      "==============================================================================\n",
      "                 coef    std err          t      P>|t|      [0.025      0.975]\n",
      "------------------------------------------------------------------------------\n",
      "Arabic         0.5252      0.006     94.759      0.000       0.514       0.536\n",
      "History        0.3082      0.004     70.134      0.000       0.300       0.317\n",
      "Geography      0.3178      0.005     64.645      0.000       0.308       0.327\n",
      "Philosophy     0.3119      0.006     51.383      0.000       0.300       0.324\n",
      "Psychology     0.2950      0.006     47.978      0.000       0.283       0.307\n",
      "intercept     -5.9829      0.329    -18.171      0.000      -6.628      -5.337\n",
      "==============================================================================\n",
      "Omnibus:                      195.144   Durbin-Watson:                   1.090\n",
      "Prob(Omnibus):                  0.000   Jarque-Bera (JB):              169.216\n",
      "Skew:                          -0.211   Prob(JB):                     1.80e-37\n",
      "Kurtosis:                       2.672   Cond. No.                     1.29e+03\n",
      "==============================================================================\n",
      "\n",
      "Notes:\n",
      "[1] Standard Errors assume that the covariance matrix of the errors is correctly specified.\n",
      "[2] The condition number is large, 1.29e+03. This might indicate that there are\n",
      "strong multicollinearity or other numerical problems.\n"
     ]
    }
   ],
   "source": [
    "model = sm.OLS(adaby_normilized_60['TotalGrades'], adaby_normilized_60[['Arabic',\n",
    "                                                                 'History', \n",
    "                                                                 'Geography', \n",
    "                                                                 'Philosophy', \n",
    "                                                                 'Psychology',\n",
    "                                                                 'intercept']])\n",
    "regression_model = model.fit()\n",
    "print(regression_model.summary())"
   ]
  },
  {
   "cell_type": "markdown",
   "id": "21779c5f",
   "metadata": {},
   "source": [
    "#### Output: The Arabic coefficient only seemed to increase showing that with passing grade students, it seems that Arabic is directly related to the total grade, and this report is made with an 82% confidence level.<br><br>"
   ]
  },
  {
   "cell_type": "markdown",
   "id": "84d1b17c",
   "metadata": {},
   "source": [
    "## Q2) Who Does better in Chemistry and Physics: Alm Aloom or Alm Ryada?<br>\n",
    "### Comparing Each's preformance on each Subject by plotting the data."
   ]
  },
  {
   "cell_type": "code",
   "execution_count": 28,
   "id": "d80b9301",
   "metadata": {},
   "outputs": [],
   "source": [
    "x1=alm_3lom_df.TotalPercentage\n",
    "x2=alm_ryada_df.TotalPercentage"
   ]
  },
  {
   "cell_type": "code",
   "execution_count": 29,
   "id": "bbaaad05",
   "metadata": {},
   "outputs": [
    {
     "data": {
      "image/png": "[encoded data removed]",
      "text/plain": [
       "<Figure size 432x288 with 2 Axes>"
      ]
     },
     "metadata": {
      "needs_background": "light"
     },
     "output_type": "display_data"
    }
   ],
   "source": [
    "fig, (ax1, ax2) = plt.subplots(2,sharex=True)\n",
    "ax1.set_title(\"Chemistry Aloom\")\n",
    "ax2.set_title(\"Chemistry Ryada\")\n",
    "plt.subplots_adjust(bottom=-1, right=1, top=0.9)\n",
    "ax1.scatter(x1,alm_3lom_df.Chemistry);\n",
    "ax2.scatter(x2,alm_ryada_df.Chemistry);\n",
    "\n",
    "ax1.axvline(x=60, ymin=0, ymax=60, color='r');\n",
    "ax1.axhline(y=50, xmin=0, xmax=100, color='r');      \n",
    "ax2.axvline(x=60, ymin=0, ymax=60, color='r');\n",
    "ax2.axhline(y=50, xmin=0, xmax=100, color='r');      "
   ]
  },
  {
   "cell_type": "markdown",
   "id": "9a6d7174",
   "metadata": {},
   "source": [
    "\n",
    "#### Alm Ryada seems to do better in chemistry than alm aloom, as the Red lines show that students who score higher than 60% and have a chemistry score higher than 50 are mostly alm ryada but the difference is very slim."
   ]
  },
  {
   "cell_type": "code",
   "execution_count": 30,
   "id": "62afe294",
   "metadata": {},
   "outputs": [
    {
     "data": {
      "image/png": "[encoded data removed]",
      "text/plain": [
       "<Figure size 432x288 with 2 Axes>"
      ]
     },
     "metadata": {
      "needs_background": "light"
     },
     "output_type": "display_data"
    }
   ],
   "source": [
    "fig, (ax1, ax2) = plt.subplots(2,sharex=True)\n",
    "ax1.set_title(\"Physics Aloom\")\n",
    "ax2.set_title(\"Physics Ryada\")\n",
    "plt.subplots_adjust(bottom=-1, right=1, top=0.9)\n",
    "ax1.scatter(x1,alm_3lom_df.Physics);\n",
    "ax2.scatter(x2,alm_ryada_df.Physics);\n",
    "\n",
    "ax1.axvline(x=60, ymin=0, ymax=60, color='r');\n",
    "ax1.axhline(y=50, xmin=0, xmax=100, color='r');  \n",
    "ax1.axvline(x=85, ymin=0, ymax=60, color='r');\n",
    "ax2.axvline(x=60, ymin=0, ymax=60, color='r');\n",
    "ax2.axhline(y=50, xmin=0, xmax=100, color='r');  \n",
    "ax2.axvline(x=85, ymin=0, ymax=60, color='r');"
   ]
  },
  {
   "cell_type": "markdown",
   "id": "fac80421",
   "metadata": {},
   "source": [
    "#### The area blue area marked by the red lines show the portion of students who get less than 85% and more than 50 in Physics which is covered by more blue dots in the Alm Ryada group<br>\n",
    "### Conclusion<br>Alm Ryada did better in Physics than Alm Aloom, and better in chemistry but with a negligible difference.<br>"
   ]
  },
  {
   "cell_type": "markdown",
   "id": "7727d4e5",
   "metadata": {},
   "source": [
    "## Q3) Who has the most passing/failing students "
   ]
  },
  {
   "cell_type": "code",
   "execution_count": 31,
   "id": "21662e3e",
   "metadata": {},
   "outputs": [
    {
     "data": {
      "image/png": "[encoded data removed]",
      "text/plain": [
       "<Figure size 432x288 with 4 Axes>"
      ]
     },
     "metadata": {
      "needs_background": "light"
     },
     "output_type": "display_data"
    },
    {
     "name": "stdout",
     "output_type": "stream",
     "text": [
      "Rates of passing:\n",
      "Adaby:0.5812\n",
      "Alm Aloom:0.5998\n",
      "Alm Ryada:0.6287\n"
     ]
    }
   ],
   "source": [
    "fig, ((ax1, ax3),(ax2,ax4)) = plt.subplots(2,2,sharex=True)\n",
    "ax1.set_title(\"Pass Count\")\n",
    "ax2.set_title(\"Pass Rate\")\n",
    "ax3.set_title(\"fail Count\")\n",
    "ax4.set_title(\"fail Rate\")\n",
    "groups = ['Adaby','Alm Aloom','Alm Ryada']\n",
    "pass_sum = adaby_df['pass'].sum(),alm_3lom_df['pass'].sum(),alm_ryada_df['pass'].sum()\n",
    "pass_mean= adaby_df['pass'].mean(),alm_3lom_df['pass'].mean(),alm_ryada_df['pass'].mean()\n",
    "fail_sum = adaby_df['fail'].sum(),alm_3lom_df['fail'].sum(),alm_ryada_df['fail'].sum()\n",
    "fail_mean= adaby_df['fail'].mean(),alm_3lom_df['fail'].mean(),alm_ryada_df['fail'].mean()\n",
    "\n",
    "plt.subplots_adjust(bottom=-1, right=1, top=0.9)\n",
    "ax1.bar(groups,pass_sum);\n",
    "ax2.bar(groups,pass_mean);\n",
    "ax3.bar(groups,fail_sum);\n",
    "ax4.bar(groups,fail_mean);\n",
    "plt.show()\n",
    "print('Rates of passing:\\nAdaby:{}\\nAlm Aloom:{}\\nAlm Ryada:{}'.format(round(adaby_df['pass'].mean(),4),\n",
    "                                                                        round(alm_3lom_df['pass'].mean(),4),\n",
    "                                                                        round(alm_ryada_df['pass'].mean(),4)))"
   ]
  },
  {
   "cell_type": "code",
   "execution_count": 32,
   "id": "688bda7e",
   "metadata": {},
   "outputs": [
    {
     "data": {
      "text/plain": [
       "(26810, 24242, 12205)"
      ]
     },
     "execution_count": 32,
     "metadata": {},
     "output_type": "execute_result"
    }
   ],
   "source": [
    "pass_sum"
   ]
  },
  {
   "cell_type": "code",
   "execution_count": 33,
   "id": "5b3c8f7e",
   "metadata": {},
   "outputs": [
    {
     "data": {
      "text/plain": [
       "(6142, 5210, 2177)"
      ]
     },
     "execution_count": 33,
     "metadata": {},
     "output_type": "execute_result"
    }
   ],
   "source": [
    "adaby_df['fail'].sum(),alm_3lom_df['fail'].sum(),alm_ryada_df['fail'].sum()"
   ]
  },
  {
   "cell_type": "code",
   "execution_count": 35,
   "id": "a4f91fc5",
   "metadata": {},
   "outputs": [
    {
     "data": {
      "text/plain": [
       "(0.1332, 0.1289, 0.1121)"
      ]
     },
     "execution_count": 35,
     "metadata": {},
     "output_type": "execute_result"
    }
   ],
   "source": [
    "round(adaby_df['fail'].mean(),4),round(alm_3lom_df['fail'].mean(),4),round(alm_ryada_df['fail'].mean(),4)"
   ]
  },
  {
   "cell_type": "markdown",
   "id": "06346133",
   "metadata": {},
   "source": [
    "#### Adaby has the most count of students passed and failed, and the most fail rate of 0.133 compared to others of 0.13 and 0.112.<br>alm ryada has a pass rate of 0.63 while adaby has 0.58. \n",
    "### Conclusion<br>Students seem to fail the most in adaby, while more than half of the students in Alm Ryada seem to pass the most with a rate of 0.63.<br> Alm Aloom seems to be unbiased in terms of passing and failing"
   ]
  },
  {
   "cell_type": "code",
   "execution_count": null,
   "id": "0c5b41eb",
   "metadata": {},
   "outputs": [],
   "source": []
  }
 ],
 "metadata": {
  "kernelspec": {
   "display_name": "Python 3 (ipykernel)",
   "language": "python",
   "name": "python3"
  },
  "language_info": {
   "codemirror_mode": {
    "name": "ipython",
    "version": 3
   },
   "file_extension": ".py",
   "mimetype": "text/x-python",
   "name": "python",
   "nbconvert_exporter": "python",
   "pygments_lexer": "ipython3",
   "version": "3.8.12"
  }
 },
 "nbformat": 4,
 "nbformat_minor": 5
}
